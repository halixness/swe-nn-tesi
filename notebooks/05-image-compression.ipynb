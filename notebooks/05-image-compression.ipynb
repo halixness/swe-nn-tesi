{
 "cells": [
  {
   "cell_type": "markdown",
   "metadata": {},
   "source": [
    "- Based on: https://arxiv.org/pdf/1708.00838v1.pdf\n",
    "- Code: https://github.com/kunalrdeshmukh/End-to-end-compression"
   ]
  },
  {
   "cell_type": "code",
   "execution_count": 68,
   "metadata": {},
   "outputs": [],
   "source": [
    "import torch\n",
    "import torch.nn as nn\n",
    "import torch.optim as optim\n",
    "import tqdm\n",
    "import numpy as np\n",
    "import matplotlib.pyplot as plt\n",
    "%matplotlib inline"
   ]
  },
  {
   "cell_type": "markdown",
   "metadata": {},
   "source": [
    "### Data"
   ]
  },
  {
   "cell_type": "code",
   "execution_count": 25,
   "metadata": {},
   "outputs": [],
   "source": [
    "def txt_to_matrix(filename, line_skip = 5):\n",
    "    f = open (filename, 'r')\n",
    "    \n",
    "    # Lineskip, cleaning, conversion\n",
    "    data = f.readlines()[line_skip:]\n",
    "    \n",
    "    data = np.asarray(\n",
    "        [l.replace(\"\\n\", \"\").split() for l in data]\n",
    "    ).astype(np.float32)\n",
    "    \n",
    "    data[data > 100] = 0\n",
    "    \n",
    "    return data"
   ]
  },
  {
   "cell_type": "code",
   "execution_count": 26,
   "metadata": {},
   "outputs": [],
   "source": [
    "def get_dep_time_step(root, index):\n",
    "    \n",
    "    dep = txt_to_matrix(root + 'mini-decoded-' + index + '.DEP')\n",
    "\n",
    "    return np.array([dep])"
   ]
  },
  {
   "cell_type": "code",
   "execution_count": 27,
   "metadata": {},
   "outputs": [
    {
     "name": "stderr",
     "output_type": "stream",
     "text": [
      "100%|██████████| 530/530 [00:51<00:00, 10.33it/s]\n"
     ]
    }
   ],
   "source": [
    "rootdir = '../datasets/530-9m1s/'\n",
    "timesteps = []\n",
    "ignore = [\".DS_Store\", \".\", \"..\"]\n",
    "\n",
    "x = 0\n",
    "offset = 0\n",
    "ceiling = 530\n",
    "\n",
    "# Read all dirs and process them\n",
    "for path in tqdm.tqdm(range(ceiling - offset)):\n",
    "    \n",
    "    # Processing\n",
    "    file = rootdir\n",
    "    timesteps.append(\n",
    "        get_dep_time_step(\n",
    "            file, (\"{:04d}\".format(x + offset))\n",
    "        )\n",
    "    )\n",
    "    x += 1\n",
    "        \n",
    "timesteps = np.asarray(timesteps).astype(np.float32)"
   ]
  },
  {
   "cell_type": "markdown",
   "metadata": {},
   "source": [
    "### Network"
   ]
  },
  {
   "cell_type": "code",
   "execution_count": 29,
   "metadata": {},
   "outputs": [
    {
     "data": {
      "text/plain": [
       "(530, 1, 336, 341)"
      ]
     },
     "execution_count": 29,
     "metadata": {},
     "output_type": "execute_result"
    }
   ],
   "source": [
    "timesteps.shape"
   ]
  },
  {
   "cell_type": "code",
   "execution_count": 103,
   "metadata": {},
   "outputs": [],
   "source": [
    "CHANNELS = 1\n",
    "HEIGHT = timesteps.shape[2]\n",
    "WIDTH = timesteps.shape[2]\n",
    "EPOCHS = 200\n",
    "LOG_INTERVAL = 10\n",
    "BATCH_SIZE = 16"
   ]
  },
  {
   "cell_type": "code",
   "execution_count": 90,
   "metadata": {},
   "outputs": [],
   "source": [
    "class Interpolate(nn.Module):\n",
    "    def __init__(self, size, mode):\n",
    "        super(Interpolate, self).__init__()\n",
    "        self.interp = nn.functional.interpolate\n",
    "        self.size = size\n",
    "        self.mode = mode\n",
    "        \n",
    "    def forward(self, x):\n",
    "        x = self.interp(x, size=self.size, mode=self.mode, align_corners=False)\n",
    "        return x"
   ]
  },
  {
   "cell_type": "code",
   "execution_count": 91,
   "metadata": {},
   "outputs": [],
   "source": [
    "class End_to_end(nn.Module):\n",
    "  def __init__(self):\n",
    "    super(End_to_end, self).__init__()\n",
    "    \n",
    "    # Encoder\n",
    "    self.conv1 = nn.Conv2d(CHANNELS, 64, kernel_size=3, stride=1, padding=1)\n",
    "    self.conv2 = nn.Conv2d(64, 64, kernel_size=3, stride=2, padding=0)\n",
    "    self.bn1 = nn.BatchNorm2d(64, affine=False)\n",
    "    self.conv3 = nn.Conv2d(64, CHANNELS, kernel_size=3, stride=1, padding=1)\n",
    "    \n",
    "    # Decoder\n",
    "    self.interpolate = Interpolate(size=HEIGHT, mode='bilinear')\n",
    "    self.deconv1 = nn.Conv2d(CHANNELS, 64, 3, stride=1, padding=1)\n",
    "    self.deconv2 = nn.Conv2d(64, 64, 3, stride=1, padding=1)\n",
    "    self.bn2 = nn.BatchNorm2d(64, affine=False)\n",
    "    \n",
    "    self.deconv_n = nn.Conv2d(64, 64, 3, stride=1, padding=1)\n",
    "    self.bn_n = nn.BatchNorm2d(64, affine=False)\n",
    "\n",
    "    \n",
    "    self.deconv3 = nn.ConvTranspose2d(64, CHANNELS, 3, stride=1, padding=1)\n",
    "    \n",
    "    self.relu = nn.ReLU()\n",
    "  \n",
    "  def encode(self, x):\n",
    "    out = self.relu(self.conv1(x))\n",
    "    out = self.relu(self.conv2(out))\n",
    "    out = self.bn1(out)\n",
    "    return self.conv3(out)\n",
    "    \n",
    "  \n",
    "  def reparameterize(self, mu, logvar):\n",
    "    pass\n",
    "  \n",
    "  def decode(self, z):\n",
    "    upscaled_image = self.interpolate(z)\n",
    "    out = self.relu(self.deconv1(upscaled_image))\n",
    "    out = self.relu(self.deconv2(out))\n",
    "    out = self.bn2(out)\n",
    "    for _ in range(5):\n",
    "      out = self.relu(self.deconv_n(out))\n",
    "      out = self.bn_n(out)\n",
    "    out = self.deconv3(out)\n",
    "    final = upscaled_image + out\n",
    "    return final,out,upscaled_image\n",
    "\n",
    "    \n",
    "  def forward(self, x):\n",
    "    com_img = self.encode(x)\n",
    "    final,out,upscaled_image = self.decode(com_img)\n",
    "    return final, out, upscaled_image, com_img, x"
   ]
  },
  {
   "cell_type": "code",
   "execution_count": 92,
   "metadata": {},
   "outputs": [
    {
     "name": "stdout",
     "output_type": "stream",
     "text": [
      "GPU available ? False\n"
     ]
    }
   ],
   "source": [
    "CUDA = torch.cuda.is_available()\n",
    "if CUDA:\n",
    "  model = End_to_end().cuda()\n",
    "else :\n",
    "  model = End_to_end()\n",
    "\n",
    "print(\"GPU available ? \"+str(CUDA))\n",
    "  \n",
    "optimizer = optim.Adam(model.parameters(), lr=1e-3)"
   ]
  },
  {
   "cell_type": "markdown",
   "metadata": {},
   "source": [
    "### Training"
   ]
  },
  {
   "cell_type": "code",
   "execution_count": 93,
   "metadata": {},
   "outputs": [],
   "source": [
    "def loss_function(final_img,residual_img,upscaled_img,com_img,orig_img):\n",
    "    \n",
    "    com_loss = nn.MSELoss(size_average=False)(orig_img, final_img)\n",
    "    rec_loss = nn.MSELoss(size_average=False)(residual_img,orig_img-upscaled_img)\n",
    "\n",
    "    return com_loss + rec_loss"
   ]
  },
  {
   "cell_type": "code",
   "execution_count": null,
   "metadata": {},
   "outputs": [
    {
     "name": "stdout",
     "output_type": "stream",
     "text": [
      "torch.Size([16, 1, 336, 336])\n"
     ]
    }
   ],
   "source": [
    "for epoch in range(EPOCHS):\n",
    "    x = 0\n",
    "    \n",
    "    batches = int(timesteps.shape[0] / BATCH_SIZE)\n",
    "\n",
    "    # TODO: create batches and train the net with them  \n",
    "    for b in range(batches):\n",
    "\n",
    "        model.train()\n",
    "        train_loss = 0\n",
    "\n",
    "        optimizer.zero_grad()\n",
    "        data = torch.Tensor(timesteps[x:x+BATCH_SIZE, :, :, :WIDTH])\n",
    "            \n",
    "        if CUDA:\n",
    "          final, residual_img, upscaled_image, com_img, orig_im = model(data.cuda())\n",
    "        else :\n",
    "          final, residual_img, upscaled_image, com_img, orig_im = model(data)\n",
    "\n",
    "        loss = loss_function(final, residual_img, upscaled_image, com_img, orig_im)\n",
    "        \n",
    "        loss.backward()\n",
    "        \n",
    "        train_loss += loss.item()\n",
    "        \n",
    "        optimizer.step()\n",
    "\n",
    "        print('====> Epoch: {} Batch {} Average loss: {:.4f}'.format(\n",
    "          epoch, b, train_loss / len(timesteps)))\n",
    "        \n",
    "        if x % LOG_INTERVAL == 0:\n",
    "            plt.matshow(final.detach().numpy()[0, 0])\n",
    "            plt.show()\n",
    "        \n",
    "        x += 1"
   ]
  },
  {
   "cell_type": "code",
   "execution_count": null,
   "metadata": {},
   "outputs": [],
   "source": []
  }
 ],
 "metadata": {
  "kernelspec": {
   "display_name": "Python 3",
   "language": "python",
   "name": "python3"
  },
  "language_info": {
   "codemirror_mode": {
    "name": "ipython",
    "version": 3
   },
   "file_extension": ".py",
   "mimetype": "text/x-python",
   "name": "python",
   "nbconvert_exporter": "python",
   "pygments_lexer": "ipython3",
   "version": "3.8.5"
  }
 },
 "nbformat": 4,
 "nbformat_minor": 4
}
