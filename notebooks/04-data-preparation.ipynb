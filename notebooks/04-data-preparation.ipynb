{
 "cells": [
  {
   "cell_type": "markdown",
   "metadata": {},
   "source": [
    "# Data Preparation\n",
    "TODO:\n",
    "- eventuale feature selection\n",
    "- eventuale ulteriore eliminazione dati nulli/outliers\n",
    "- eventuale trasformazione dei valori (normalizzazione/standardizzazione)\n",
    "- eventuale riduzione delle dimensioni"
   ]
  },
  {
   "cell_type": "code",
   "execution_count": 4,
   "metadata": {},
   "outputs": [],
   "source": [
    "import numpy as np\n",
    "import pandas as pd\n",
    "import os\n",
    "from pathlib import Path\n",
    "import tqdm\n",
    "import matplotlib.pyplot as plt\n",
    "import random\n",
    "\n",
    "%matplotlib inline"
   ]
  },
  {
   "cell_type": "markdown",
   "metadata": {},
   "source": [
    "### Data Import"
   ]
  },
  {
   "cell_type": "code",
   "execution_count": 5,
   "metadata": {},
   "outputs": [],
   "source": [
    "def txt_to_matrix(filename, line_skip = 5):\n",
    "    f = open (filename, 'r')\n",
    "    \n",
    "    # Lineskip, cleaning, conversion\n",
    "    data = f.readlines()[line_skip:]\n",
    "    \n",
    "    data = np.asarray(\n",
    "        [l.replace(\"\\n\", \"\").split() for l in data]\n",
    "    ).astype(np.float32)\n",
    "    \n",
    "    data[data > 100] = 0\n",
    "    \n",
    "    return data"
   ]
  },
  {
   "cell_type": "code",
   "execution_count": 6,
   "metadata": {},
   "outputs": [],
   "source": [
    "def get_time_step(root, index):\n",
    "    \n",
    "    dep = txt_to_matrix(root + 'decoded-' + index + '.DEP')\n",
    "    vvx = txt_to_matrix(root + 'decoded-' + index + '.VVX')\n",
    "    vvy = txt_to_matrix(root + 'decoded-' + index + '.VVY')\n",
    "\n",
    "    return np.array([dep, vvx, vvy])\n",
    "\n",
    "def get_dep_time_step(root, index):\n",
    "    \n",
    "    dep = txt_to_matrix(root + 'decoded-' + index + '.DEP-cutted')\n",
    "\n",
    "    return np.array([dep])"
   ]
  },
  {
   "cell_type": "code",
   "execution_count": 7,
   "metadata": {},
   "outputs": [
    {
     "name": "stderr",
     "output_type": "stream",
     "text": [
      "100%|██████████| 198/198 [00:21<00:00,  9.09it/s]\n"
     ]
    }
   ],
   "source": [
    "rootdir = '../decoded/'\n",
    "prefix = 'toce_ris_V17_50-'\n",
    "timesteps = []\n",
    "ignore = [\".DS_Store\", \".\", \"..\"]\n",
    "\n",
    "x = 0\n",
    "offset = 41\n",
    "ceiling = 239\n",
    "\n",
    "# Read all dirs and process them\n",
    "for path in tqdm.tqdm(range(ceiling - offset)):\n",
    "    \n",
    "    # Processing\n",
    "    file = rootdir + prefix\n",
    "    timesteps.append(\n",
    "        get_dep_time_step(\n",
    "            file, (\"{:04d}\".format(x + offset))\n",
    "        )\n",
    "    )\n",
    "    x += 1\n",
    "        \n",
    "timesteps = np.asarray(timesteps).astype(np.float32)"
   ]
  },
  {
   "cell_type": "markdown",
   "metadata": {},
   "source": [
    "### Data preprocessing"
   ]
  },
  {
   "cell_type": "code",
   "execution_count": null,
   "metadata": {},
   "outputs": [],
   "source": []
  },
  {
   "cell_type": "code",
   "execution_count": null,
   "metadata": {},
   "outputs": [],
   "source": []
  },
  {
   "cell_type": "code",
   "execution_count": null,
   "metadata": {},
   "outputs": [],
   "source": []
  },
  {
   "cell_type": "code",
   "execution_count": null,
   "metadata": {},
   "outputs": [],
   "source": [
    "## Data preprocessing\n",
    "# rimozione valori di default 1e38\n",
    "# thereshold = 10\n",
    "\n",
    "# timesteps[timesteps > threshold] = 0\n",
    "\n"
   ]
  }
 ],
 "metadata": {
  "kernelspec": {
   "display_name": "Python 3",
   "language": "python",
   "name": "python3"
  },
  "language_info": {
   "codemirror_mode": {
    "name": "ipython",
    "version": 3
   },
   "file_extension": ".py",
   "mimetype": "text/x-python",
   "name": "python",
   "nbconvert_exporter": "python",
   "pygments_lexer": "ipython3",
   "version": "3.7.0"
  }
 },
 "nbformat": 4,
 "nbformat_minor": 2
}
